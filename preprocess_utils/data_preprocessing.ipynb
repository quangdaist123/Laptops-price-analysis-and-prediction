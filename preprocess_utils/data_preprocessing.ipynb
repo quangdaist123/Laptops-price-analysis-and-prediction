{
 "cells": [
  {
   "cell_type": "code",
   "execution_count": null,
   "metadata": {},
   "outputs": [],
   "source": [
    "import preprocess_functions as pf"
   ]
  },
  {
   "cell_type": "code",
   "execution_count": null,
   "metadata": {},
   "outputs": [],
   "source": [
    "import pandas as pd\n",
    "pd.set_option('display.max_rows', None)\n",
    "pd.set_option('display.max_columns', None)\n",
    "pd.set_option('display.width', None)\n",
    "pd.set_option('display.max_colwidth', -1)"
   ]
  },
  {
   "cell_type": "code",
   "execution_count": null,
   "metadata": {},
   "outputs": [],
   "source": [
    "df = pd.read_csv('raw_combined_csv_ver2.csv')"
   ]
  },
  {
   "cell_type": "code",
   "execution_count": null,
   "metadata": {},
   "outputs": [],
   "source": [
    "df[\"Tên\"] = df[\"Tên\"].apply(lambda s: pf.preprocess_name(s))\n",
    "df[\"Loại RAM\"] = df[\"Loại RAM\"].apply(lambda s: pf.preprocess_RAM(s))\n",
    "df[\"Ổ cứng\"] = df[\"Ổ cứng\"].apply(lambda s: pf.preprocess_drive(s))\n",
    "df[\"Hệ điều hành\"] = df[\"Hệ điều hành\"].apply(lambda s: pf.preprocess_os(s))\n",
    "df[\"Camera\"] = df[\"Camera\"].apply(lambda s: pf.preprocess_camera(s))\n",
    "df[\"Độ phân giải\"] = df[\"Độ phân giải\"].apply(lambda s: pf.preprocess_resolution(s))\n",
    "df[\"Thông tin Pin\"] = df[\"Thông tin Pin\"].apply(lambda s: pf.preprocess_battery(s))\n",
    "df[\"width\"] = df[\"Kích thước\"].apply(lambda s: pf.preprocessing_size(s)[0])\n",
    "df[\"height\"] = df[\"Kích thước\"].apply(lambda s: pf.preprocessing_size(s)[1])\n",
    "df[\"thickness\"] = df[\"Kích thước\"].apply(lambda s: pf.preprocessing_size(s)[2])\n",
    "df['hasThunderbolt'] = df['Cổng giao tiếp'].apply(lambda s: pf.preprocess_thunderbolt(s))\n",
    "df['hasAntiGlare'] = df['Công nghệ màn hình'].apply(lambda s: pf.preprocess_AntiGlare(s))\n",
    "df['CPU'] = df['CPU'].apply(lambda s: pf.preprocess_cpu(s))\n",
    "df['Card đồ họa'] = df['Card đồ họa'].apply(lambda s: pf.preprocess_gpu(s))\n",
    "# df['RAM'] = np.array([*df.apply(lambda x: pf.preprocess_RAM_tiki(x), axis=1).to_list()])[:, 0]\n",
    "# df['Loại RAM'] = np.array([*df.apply(lambda x: pf.preprocess_RAM_tiki(x), axis=1).to_list()])[:, 1]\n",
    "# df['Tốc độ Bus RAM'] = np.array([*df.apply(lambda x: pf.preprocess_RAM_tiki(x), axis=1).to_list()])[:, 2]\n",
    "df['RAM'], df['Loại RAM'], df['Tốc độ Bus RAM'] = np.hsplit(np.array([*df.apply(lambda x: pf.preprocess_RAM_tiki(x), axis=1).to_list()]),3)"
   ]
  },
  {
   "cell_type": "code",
   "execution_count": null,
   "metadata": {},
   "outputs": [],
   "source": [
    "df.to_csv('data.csv')"
   ]
  }
 ],
 "metadata": {
  "kernelspec": {
   "display_name": "Python 3",
   "language": "python",
   "name": "python3"
  },
  "language_info": {
   "codemirror_mode": {
    "name": "ipython",
    "version": 3
   },
   "file_extension": ".py",
   "mimetype": "text/x-python",
   "name": "python",
   "nbconvert_exporter": "python",
   "pygments_lexer": "ipython3",
   "version": "3.7.9"
  },
  "latex_envs": {
   "LaTeX_envs_menu_present": true,
   "autoclose": false,
   "autocomplete": true,
   "bibliofile": "biblio.bib",
   "cite_by": "apalike",
   "current_citInitial": 1,
   "eqLabelWithNumbers": true,
   "eqNumInitial": 1,
   "hotkeys": {
    "equation": "Ctrl-E",
    "itemize": "Ctrl-I"
   },
   "labels_anchors": false,
   "latex_user_defs": false,
   "report_style_numbering": false,
   "user_envs_cfg": false
  },
  "toc": {
   "base_numbering": 1,
   "nav_menu": {},
   "number_sections": true,
   "sideBar": true,
   "skip_h1_title": false,
   "title_cell": "Table of Contents",
   "title_sidebar": "Contents",
   "toc_cell": false,
   "toc_position": {},
   "toc_section_display": true,
   "toc_window_display": false
  },
  "varInspector": {
   "cols": {
    "lenName": 16,
    "lenType": 16,
    "lenVar": 40
   },
   "kernels_config": {
    "python": {
     "delete_cmd_postfix": "",
     "delete_cmd_prefix": "del ",
     "library": "var_list.py",
     "varRefreshCmd": "print(var_dic_list())"
    },
    "r": {
     "delete_cmd_postfix": ") ",
     "delete_cmd_prefix": "rm(",
     "library": "var_list.r",
     "varRefreshCmd": "cat(var_dic_list()) "
    }
   },
   "position": {
    "height": "144.222px",
    "left": "1337.67px",
    "right": "20px",
    "top": "120px",
    "width": "350px"
   },
   "types_to_exclude": [
    "module",
    "function",
    "builtin_function_or_method",
    "instance",
    "_Feature"
   ],
   "window_display": false
  }
 },
 "nbformat": 4,
 "nbformat_minor": 4
}
