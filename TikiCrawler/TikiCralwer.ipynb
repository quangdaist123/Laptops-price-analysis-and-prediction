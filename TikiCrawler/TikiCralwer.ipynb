{
 "cells": [
  {
   "cell_type": "code",
   "execution_count": 1,
   "metadata": {},
   "outputs": [],
   "source": [
    "from selenium import webdriver\n",
    "from selenium.webdriver.common.keys import Keys\n",
    "from bs4 import BeautifulSoup as soup\n",
    "from time import sleep\n",
    "import pandas as pd"
   ]
  },
  {
   "cell_type": "code",
   "execution_count": 2,
   "metadata": {},
   "outputs": [],
   "source": [
    "links = ['https://tiki.vn/laptop-truyen-thong/c29010?src=c.1846.hamburger_menu_fly_out_banner', \n",
    "         'https://tiki.vn/laptop-gaming/c5584?src=c.1846.hamburger_menu_fly_out_banner',\n",
    "        'https://tiki.vn/laptop-2-trong-1/c29008?src=c.1846.hamburger_menu_fly_out_banner',\n",
    "        'https://tiki.vn/macbook-imac/c2458?src=c.1846.hamburger_menu_fly_out_banner',\n",
    "        'https://tiki.vn/chromebooks/c29012?src=c.1846.hamburger_menu_fly_out_banner']"
   ]
  },
  {
   "cell_type": "code",
   "execution_count": 3,
   "metadata": {},
   "outputs": [
    {
     "name": "stdout",
     "output_type": "stream",
     "text": [
      "Completed crawling product's urls\n"
     ]
    }
   ],
   "source": [
    "product_urls = set()\n",
    "\n",
    "def getUrls(link):\n",
    "    \"\"\" Lấy url dẫn đến trang chứa thông tin các sản phẩm \"\"\"\n",
    "    driver = webdriver.Chrome()\n",
    "    driver.get(link)\n",
    "    current_page = 1\n",
    "    while True:\n",
    "        product_items = driver.find_elements_by_class_name('product-item')\n",
    "\n",
    "        for product_item in product_items:\n",
    "            if 'https://tka.tiki.vn' not in product_item.get_attribute('href'):\n",
    "                product_urls.add(product_item.get_attribute('href'))\n",
    "                \n",
    "        try:\n",
    "            next_button = driver.find_elements_by_xpath('//*[@data-view-id=\"product_list_pagination_item\"]')[-1]\n",
    "        except:\n",
    "            break\n",
    "            \n",
    "        next_page = int(next_button.get_attribute('data-view-label'))\n",
    "        if current_page < next_page:  \n",
    "            current_page = next_page\n",
    "            driver.execute_script(\"arguments[0].scrollIntoView();\", next_button)\n",
    "            next_button.click()\n",
    "            sleep(2)\n",
    "        else:\n",
    "            break\n",
    "    driver.close()\n",
    "\n",
    "for link in links:\n",
    "    getUrls(link)\n",
    "print('Completed crawling product\\'s urls')"
   ]
  },
  {
   "cell_type": "code",
   "execution_count": 4,
   "metadata": {},
   "outputs": [],
   "source": [
    "def getDetailedInformation(driver, url):\n",
    "    page_source = soup(driver.page_source, \"html.parser\")\n",
    "\n",
    "    keys = []\n",
    "    values = []\n",
    "    \n",
    "    try:\n",
    "        # Handle trường hợp hết hàng (lúc này không hiện bảng cấu hình)\n",
    "        thongTinChiTiet = page_source.find('div', class_=\"content has-table\").find_all('tr')\n",
    "    except:\n",
    "        return 0\n",
    "    \n",
    "    try:\n",
    "        # Handle trường hợp không tìm thấy sản phẩm\n",
    "        name = page_source.find('h1', class_=\"title\").get_text().strip()\n",
    "    except:\n",
    "        return 0\n",
    "    keys.append('Link')\n",
    "    values.append(url)\n",
    "    \n",
    "    keys.append('Tên sản phẩm')\n",
    "    values.append(name)\n",
    "\n",
    "    brand = page_source.find('a', {\"data-view-id\" : \"pdp_details_view_brand\"}).get_text().strip()\n",
    "    keys.append('Thương hiệu')\n",
    "    values.append(brand)\n",
    "    \n",
    "    seller_name = page_source.find('span', class_=\"seller-name\").get_text().strip()\n",
    "    keys.append('Nhà bán')\n",
    "    values.append(seller_name)\n",
    "    \n",
    "    current_price = page_source.find('div', class_=\"product-price__current-price\")\n",
    "    if current_price:\n",
    "        current_price = int(current_price.get_text().replace('₫','').replace('.',''))\n",
    "    else:\n",
    "        # Hanlde trường hợp giá đang được flash sale\n",
    "        return 0\n",
    "    keys.append('Giá hiện tại')\n",
    "    values.append(current_price)\n",
    "    \n",
    "    for thongTin in thongTinChiTiet:\n",
    "        thongTin = thongTin.find_all('td')\n",
    "        thongTin[0] = thongTin[0].get_text()\n",
    "        thongTin[1] = thongTin[1].get_text()\n",
    "        keys.append(thongTin[0])\n",
    "        values.append(thongTin[1])\n",
    "    \n",
    "    dictThongTin = dict(zip(keys, values))\n",
    "    return dictThongTin"
   ]
  },
  {
   "cell_type": "code",
   "execution_count": 5,
   "metadata": {},
   "outputs": [],
   "source": [
    "product_urls = list(product_urls)\n",
    "df = pd.DataFrame([])\n",
    "\n",
    "driver = webdriver.Chrome()\n",
    "for url in product_urls:\n",
    "    driver.get(url)\n",
    "    \n",
    "    df_temp = getDetailedInformation(driver, url)\n",
    "    if df_temp == 0:\n",
    "        continue\n",
    "    df_temp = pd.DataFrame.from_dict([df_temp])\n",
    "    df = pd.concat([df, df_temp])"
   ]
  },
  {
   "cell_type": "code",
   "execution_count": 7,
   "metadata": {},
   "outputs": [],
   "source": [
    "df.to_csv('laptop.csv', encoding='UTF-8', index=False)"
   ]
  }
 ],
 "metadata": {
  "kernelspec": {
   "display_name": "Python 3",
   "language": "python",
   "name": "python3"
  },
  "language_info": {
   "codemirror_mode": {
    "name": "ipython",
    "version": 3
   },
   "file_extension": ".py",
   "mimetype": "text/x-python",
   "name": "python",
   "nbconvert_exporter": "python",
   "pygments_lexer": "ipython3",
   "version": "3.7.9"
  },
  "latex_envs": {
   "LaTeX_envs_menu_present": true,
   "autoclose": false,
   "autocomplete": true,
   "bibliofile": "biblio.bib",
   "cite_by": "apalike",
   "current_citInitial": 1,
   "eqLabelWithNumbers": true,
   "eqNumInitial": 1,
   "hotkeys": {
    "equation": "Ctrl-E",
    "itemize": "Ctrl-I"
   },
   "labels_anchors": false,
   "latex_user_defs": false,
   "report_style_numbering": false,
   "user_envs_cfg": false
  },
  "toc": {
   "base_numbering": 1,
   "nav_menu": {},
   "number_sections": true,
   "sideBar": true,
   "skip_h1_title": false,
   "title_cell": "Table of Contents",
   "title_sidebar": "Contents",
   "toc_cell": false,
   "toc_position": {},
   "toc_section_display": true,
   "toc_window_display": false
  },
  "varInspector": {
   "cols": {
    "lenName": 16,
    "lenType": 16,
    "lenVar": 40
   },
   "kernels_config": {
    "python": {
     "delete_cmd_postfix": "",
     "delete_cmd_prefix": "del ",
     "library": "var_list.py",
     "varRefreshCmd": "print(var_dic_list())"
    },
    "r": {
     "delete_cmd_postfix": ") ",
     "delete_cmd_prefix": "rm(",
     "library": "var_list.r",
     "varRefreshCmd": "cat(var_dic_list()) "
    }
   },
   "types_to_exclude": [
    "module",
    "function",
    "builtin_function_or_method",
    "instance",
    "_Feature"
   ],
   "window_display": false
  }
 },
 "nbformat": 4,
 "nbformat_minor": 4
}
