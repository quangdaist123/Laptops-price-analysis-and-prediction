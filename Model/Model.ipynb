{
 "cells": [
  {
   "cell_type": "code",
   "execution_count": 1,
   "metadata": {},
   "outputs": [],
   "source": [
    "from IPython.core.interactiveshell import InteractiveShell\n",
    "InteractiveShell.ast_node_interactivity = \"all\"\n",
    "\n",
    "import numpy as np\n",
    "import pandas as pd\n",
    "import warnings\n",
    "\n",
    "warnings.filterwarnings(\"ignore\")\n",
    "\n",
    "pd.set_option('display.max_rows', None)\n",
    "pd.set_option('display.max_columns', None)\n",
    "pd.set_option('display.width', None)\n",
    "pd.set_option('display.max_colwidth', -1)\n",
    "pd.options.display.max_rows"
   ]
  },
  {
   "cell_type": "code",
   "execution_count": 2,
   "metadata": {},
   "outputs": [],
   "source": [
    "# Load dataset\n",
    "df = pd.read_csv('3_dataset_dtypes_corrected.csv', index_col=False)"
   ]
  },
  {
   "cell_type": "code",
   "execution_count": 3,
   "metadata": {},
   "outputs": [],
   "source": [
    "from sklearn.linear_model import LinearRegression\n",
    "from sklearn.preprocessing import LabelEncoder\n",
    "from sklearn import preprocessing\n",
    "from sklearn.impute import KNNImputer\n",
    "from sklearn.preprocessing import PolynomialFeatures"
   ]
  },
  {
   "cell_type": "code",
   "execution_count": 5,
   "metadata": {},
   "outputs": [],
   "source": [
    "# %% encode dataset để train\n",
    "def encode(df):\n",
    "    label_encoders = {}\n",
    "    for column in df.columns:\n",
    "        le = preprocessing.LabelEncoder()\n",
    "        df[column] = le.fit_transform(df[column])\n",
    "        label_encoders[column] = le\n",
    "    \n",
    "    return df, label_encoders\n",
    "    \n",
    "# %% decode\n",
    "def decode(df, label_encoders):\n",
    "    for column in df.columns:\n",
    "        df[column] = label_encoders[column].inverse_transform(df[column])\n",
    "    \n",
    "    return df\n",
    "\n",
    "# Multivariate Linear Regression\n",
    "def linearReg(*args, df):    \n",
    "    model = LinearRegression()\n",
    "    \n",
    "    df2 = df.copy()\n",
    "    \n",
    "    model.fit(df2[[*args]], df2['used_price'])\n",
    "\n",
    "    return model\n",
    "\n",
    "# Polynomial Regression\n",
    "def polyReg(*args, df, deg=2):\n",
    "    poly = PolynomialFeatures(deg)\n",
    "    df2 = df.copy()[[*args]]\n",
    "    print(df2.shape)\n",
    "    y = df.copy()['used_price']\n",
    "    \n",
    "    df2 = poly.fit_transform(df2)\n",
    "    print(df2.shape)\n",
    "    \n",
    "    model = LinearRegression()\n",
    "    model.fit(df2, y)\n",
    "    \n",
    "    return model"
   ]
  },
  {
   "cell_type": "code",
   "execution_count": 6,
   "metadata": {},
   "outputs": [],
   "source": [
    "# encode\n",
    "df2 = df.copy()\n",
    "df2_encoded, label_encoders = encode(df2)\n",
    "\n",
    "# fill na bằng KNNImputer\n",
    "imputer = KNNImputer(missing_values='nan', n_neighbors=10)\n",
    "_ = imputer.fit_transform(df2_encoded)\n",
    "\n",
    "# Build multivariate linear regression model\n",
    "lr = linearReg(*df2_encoded.columns.drop('used_price'), df=df2_encoded)\n",
    "# df2 = decode(df2_encoded, label_encoders)"
   ]
  },
  {
   "cell_type": "code",
   "execution_count": 7,
   "metadata": {},
   "outputs": [
    {
     "data": {
      "text/plain": [
       "array([  0.91004139,   5.38892033,  -0.59657001,   7.11701458,\n",
       "        10.90793218, -10.38286321,   0.2580827 ,  -1.90298916,\n",
       "         7.70487317,  -6.71987263,   4.96186344,  -2.30740803,\n",
       "        -5.38681758, -15.51960103, -19.87011295,  -0.72460677,\n",
       "         1.61278129,  -1.99361768,   0.81498866,  -0.16109812,\n",
       "        -0.18372763,  -0.14312347,   4.97661541,  34.64350175,\n",
       "        31.0074749 ,  12.44896217,  -5.17346279,  -6.84159635,\n",
       "        -7.69456911,  20.94843074,  -3.43301979, -29.38839437,\n",
       "         1.1624377 ])"
      ]
     },
     "execution_count": 7,
     "metadata": {},
     "output_type": "execute_result"
    },
    {
     "data": {
      "text/plain": [
       "33"
      ]
     },
     "execution_count": 7,
     "metadata": {},
     "output_type": "execute_result"
    }
   ],
   "source": [
    "lr.coef_\n",
    "len(lr.coef_)"
   ]
  },
  {
   "cell_type": "code",
   "execution_count": 8,
   "metadata": {},
   "outputs": [
    {
     "name": "stdout",
     "output_type": "stream",
     "text": [
      "(301, 33)\n",
      "(301, 595)\n"
     ]
    },
    {
     "data": {
      "text/plain": [
       "595"
      ]
     },
     "execution_count": 8,
     "metadata": {},
     "output_type": "execute_result"
    }
   ],
   "source": [
    "# Build polynomial regression model\n",
    "polyModel = polyReg(*df2.columns.drop('used_price'), df=df2)\n",
    "len(polyModel.coef_)"
   ]
  }
 ],
 "metadata": {
  "kernelspec": {
   "display_name": "Python 3 (ipykernel)",
   "language": "python",
   "name": "python3"
  },
  "language_info": {
   "codemirror_mode": {
    "name": "ipython",
    "version": 3
   },
   "file_extension": ".py",
   "mimetype": "text/x-python",
   "name": "python",
   "nbconvert_exporter": "python",
   "pygments_lexer": "ipython3",
   "version": "3.7.11"
  },
  "latex_envs": {
   "LaTeX_envs_menu_present": true,
   "autoclose": false,
   "autocomplete": true,
   "bibliofile": "biblio.bib",
   "cite_by": "apalike",
   "current_citInitial": 1,
   "eqLabelWithNumbers": true,
   "eqNumInitial": 1,
   "hotkeys": {
    "equation": "Ctrl-E",
    "itemize": "Ctrl-I"
   },
   "labels_anchors": false,
   "latex_user_defs": false,
   "report_style_numbering": false,
   "user_envs_cfg": false
  },
  "toc": {
   "base_numbering": 1,
   "nav_menu": {},
   "number_sections": true,
   "sideBar": true,
   "skip_h1_title": false,
   "title_cell": "Table of Contents",
   "title_sidebar": "Contents",
   "toc_cell": false,
   "toc_position": {},
   "toc_section_display": true,
   "toc_window_display": false
  },
  "varInspector": {
   "cols": {
    "lenName": 16,
    "lenType": 16,
    "lenVar": 40
   },
   "kernels_config": {
    "python": {
     "delete_cmd_postfix": "",
     "delete_cmd_prefix": "del ",
     "library": "var_list.py",
     "varRefreshCmd": "print(var_dic_list())"
    },
    "r": {
     "delete_cmd_postfix": ") ",
     "delete_cmd_prefix": "rm(",
     "library": "var_list.r",
     "varRefreshCmd": "cat(var_dic_list()) "
    }
   },
   "types_to_exclude": [
    "module",
    "function",
    "builtin_function_or_method",
    "instance",
    "_Feature"
   ],
   "window_display": false
  }
 },
 "nbformat": 4,
 "nbformat_minor": 4
}
